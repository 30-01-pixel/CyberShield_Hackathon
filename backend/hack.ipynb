{
 "cells": [
  {
   "cell_type": "code",
   "execution_count": 32,
   "id": "259c54cb",
   "metadata": {},
   "outputs": [
    {
     "name": "stdout",
     "output_type": "stream",
     "text": [
      "{\n",
      "  \"is_anti_india\": true,\n",
      "  \"confidence\": 0.8,\n",
      "  \"reasoning\": \"The text mentions the 'India Out' campaign, which is explicitly anti-India, and aims to fuel hatred and scepticism towards India's investments, defence partnerships, and security provisions in Maldives. The campaign is led by political parties with a history of anti-India rhetoric and proximity to China.\"\n",
      "}\n"
     ]
    }
   ],
   "source": [
    "from langchain_groq import ChatGroq\n",
    "from dotenv import load_dotenv\n",
    "from langchain.prompts import PromptTemplate\n",
    "\n",
    "load_dotenv()\n",
    "# Initialize Groq LLM\n",
    "llm = ChatGroq(\n",
    "    model=\"llama3-8b-8192\",\n",
    "    temperature=0.2\n",
    ")\n",
    "\n",
    "# Define a text prompt template\n",
    "template = \"\"\"\n",
    "You are an OSINT AI classifier. \n",
    "Your task is to analyze a given TEXT and decide if it contains content related to an anti-India campaign.\n",
    "\n",
    "Instructions:\n",
    "1. Decide whether the text promotes, supports, or is connected to an anti-India campaign.\n",
    "2. Give a confidence score between 0 (not related at all) and 1 (definitely related).\n",
    "3. Explain briefly why you decided that.\n",
    "\n",
    "Output strictly in JSON format only:\n",
    "{{\n",
    "  \"is_anti_india\": <true/false>,\n",
    "  \"confidence\": <float between 0 and 1>,\n",
    "  \"reasoning\": \"<short reasoning>\"\n",
    "}}\n",
    "\n",
    "TEXT TO ANALYZE:\n",
    "\"{query}\"\n",
    "\"\"\"\n",
    "\n",
    "prompt = PromptTemplate(\n",
    "    input_variables=[\"query\"],\n",
    "    template=template\n",
    ")\n",
    "\n",
    "def llm_block(query: str) -> str:\n",
    "    \"\"\"\n",
    "    Send a query with a PromptTemplate to Groq LLM and return the response.\n",
    "    \"\"\"\n",
    "    final_prompt = prompt.format(query=query)\n",
    "    response = llm.invoke(final_prompt)\n",
    "    return response.content\n",
    "\n",
    "# Example usage\n",
    "\n",
    "outtext = (llm_block(\"\"\"\n",
    "                Introduction\n",
    "India and Maldives have shared diplomatic, defence, economic, and cultural relations for the past six decades. Located in a crucial geographical position in the Indian Ocean, Maldives is vital to India’s strategy for the Indian Ocean and its neighbourhood. For its part, Maldives reaps benefits from India’s economic assistance and net security provision. India has assisted Maldives in various ways since its independence in 1965, such as its pursuit of socio-economic development and modernisation, as well as maritime security. Their engagements flourished beginning in the late 1980s, when India launched ‘Operation Cactus’ to abort a coup in Maldives against Maumoon Abdul Gayoom’s autocratic regime.[1]\n",
    "\n",
    "The cordial friendship continued throughout Maldives\\’ first democratic government, elected in 2008.  However, with Abdulla Yameen coming to power in 2013, India-Maldives relations spiralled downward with his crackdown on democracy, proximity towards China, and anti-India rhetoric used to muster nationalist sentiments.  In 2018 a new president, Ibrahim Solih, was elected, who immediately worked to improve the relationship by initiating an ‘India First’ policy. The policy prioritised India for economic and defence partnerships, and showed greater sensitivity to Indian concerns emanating from Chinese investments and activities in Maldives.\n",
    "\n",
    "Not everyone agrees with this policy, however. In October 2020, the opposition coalition—i.e., the Progressive Party of Maldives (PPM) and the People’s National Congress (PNC)— officially launched a challenge to the bilateral relationship through what it called the ‘India Out’ campaign. The campaign seeks to exploit anti-India sentiments, already prevalent parallel to the democratic transition and amidst allegations of India’s expansionist ambitions. ‘India Out’ aims to fuel more hatred by creating scepticism for India’s investments in Maldives, the defence partnerships between the two, and India’s net-security provisions. Both of the political parties behind the campaign are led by Yameen.\n",
    "\n",
    "This paper traces the origins of ‘India Out’, its nature, and drivers, and its implications.\n",
    "                \"\"\"))\n",
    "print(outtext)"
   ]
  },
  {
   "cell_type": "code",
   "execution_count": 19,
   "id": "58eaf32a",
   "metadata": {},
   "outputs": [
    {
     "name": "stdout",
     "output_type": "stream",
     "text": [
      "ChatCompletionMessage(content='```\\n{\\n  \"is_anti_india\": true,\\n  \"confidence\": 0.9,\\n  \"reasoning\": \"The image contains a sign that reads \\'ASHAMED OF BEING INDIAN\\', which directly expresses a negative sentiment towards being Indian. This suggests a strong connection to an anti-India campaign, as it reflects a critical or ashamed view of Indian identity or nationality.\"\\n}\\n```', role='assistant', executed_tools=None, function_call=None, reasoning=None, tool_calls=None)\n"
     ]
    }
   ],
   "source": [
    "from groq import Groq\n",
    "import os\n",
    "\n",
    "client = Groq(api_key=os.environ.get(\"GROQ_API_KEY\"))\n",
    "import base64\n",
    "\n",
    "with open(\"anti-India.jpg\", \"rb\") as f:\n",
    "    img_base64 = base64.b64encode(f.read()).decode(\"utf-8\")\n",
    "    \n",
    "    \n",
    "# Define a text prompt template\n",
    "template = \"\"\"\n",
    "You are an OSINT AI classifier. \n",
    "Your task is to analyze a given IMAGE and decide if it contains content related to an anti-India campaign.\n",
    "\n",
    "Steps:\n",
    "1. First, describe briefly what the image contains. \n",
    "2. Decide whether the image content promotes, supports, or is connected to an anti-India campaign.\n",
    "3. Give a confidence score between 0 (not related at all) and 1 (definitely related).\n",
    "4. Explain briefly why you decided that.\n",
    "\n",
    "Output strictly in JSON format only:\n",
    "{{\n",
    "  \"is_anti_india\": <true/false>,\n",
    "  \"confidence\": <float between 0 and 1>,\n",
    "  \"reasoning\": \"<short reasoning>\"\n",
    "}}\n",
    "\n",
    "\"\"\"\n",
    "\n",
    "prompt = PromptTemplate(\n",
    "    template=template\n",
    ")\n",
    "\n",
    "completion = client.chat.completions.create(\n",
    "    model=\"meta-llama/llama-4-scout-17b-16e-instruct\",\n",
    "    messages=[\n",
    "        {\n",
    "            \"role\": \"user\",\n",
    "            \"content\": [\n",
    "                {\"type\": \"text\", \n",
    "                 \"text\": template},\n",
    "                {\"type\": \"image_url\", \"image_url\": {\"url\": f\"data:image/jpeg;base64,{img_base64}\"}}\n",
    "            ]\n",
    "        }\n",
    "    ]\n",
    ")\n",
    "\n",
    "\n",
    "print(completion.choices[0].message)\n"
   ]
  },
  {
   "cell_type": "code",
   "execution_count": 24,
   "id": "8451fa97",
   "metadata": {},
   "outputs": [
    {
     "name": "stdout",
     "output_type": "stream",
     "text": [
      "```\n",
      "{\n",
      "  \"is_anti_india\": true,\n",
      "  \"confidence\": 0.9,\n",
      "  \"reasoning\": \"The image contains a sign that reads 'ASHAMED OF BEING INDIAN', which directly expresses a negative sentiment towards being Indian. This suggests a strong connection to an anti-India campaign, as it reflects a critical or ashamed view of Indian identity or nationality.\"\n",
      "}\n",
      "```\n"
     ]
    }
   ],
   "source": [
    "output = completion.choices[0].message.content\n",
    "print(output)\n",
    "\n"
   ]
  },
  {
   "cell_type": "code",
   "execution_count": 36,
   "id": "33390467",
   "metadata": {},
   "outputs": [
    {
     "name": "stdout",
     "output_type": "stream",
     "text": [
      "{'is_anti_india': True, 'confidence': 0.9, 'reasoning': \"The image contains a sign that reads 'ASHAMED OF BEING INDIAN', which directly expresses a negative sentiment towards being Indian. This suggests a strong connection to an anti-India campaign, as it reflects a critical or ashamed view of Indian identity or nationality.\"}\n",
      "Confidence: 0.9\n"
     ]
    }
   ],
   "source": [
    "import json\n",
    "# Step 1: Strip markdown fences if present\n",
    "clean_output = output.strip().strip(\"`\")\n",
    "\n",
    "# Step 2: Some LLMs return \"json\\n{...}\", so handle that\n",
    "if clean_output.startswith(\"json\"):\n",
    "    clean_output = clean_output[4:].strip()\n",
    "\n",
    "# Step 3: Now parse\n",
    "try:\n",
    "    result = json.loads(clean_output)\n",
    "    print(result)\n",
    "    print(\"Confidence:\", result[\"confidence\"])\n",
    "except json.JSONDecodeError as e:\n",
    "    print(\"❌ JSON parsing error:\", e)\n",
    "    print(\"Raw output was:\\n\", clean_output)\n"
   ]
  },
  {
   "cell_type": "code",
   "execution_count": 37,
   "id": "ee053834",
   "metadata": {},
   "outputs": [
    {
     "data": {
      "text/plain": [
       "{'is_anti_india': True,\n",
       " 'confidence': 0.8,\n",
       " 'reasoning': \"The text mentions the 'India Out' campaign, which is explicitly anti-India, and aims to fuel hatred and scepticism towards India's investments, defence partnerships, and security provisions in Maldives. The campaign is led by political parties with a history of anti-India rhetoric and proximity to China.\"}"
      ]
     },
     "execution_count": 37,
     "metadata": {},
     "output_type": "execute_result"
    }
   ],
   "source": [
    "result_text = json.loads(outtext)\n",
    "result_text"
   ]
  }
 ],
 "metadata": {
  "kernelspec": {
   "display_name": "3.11.9",
   "language": "python",
   "name": "python3"
  },
  "language_info": {
   "codemirror_mode": {
    "name": "ipython",
    "version": 3
   },
   "file_extension": ".py",
   "mimetype": "text/x-python",
   "name": "python",
   "nbconvert_exporter": "python",
   "pygments_lexer": "ipython3",
   "version": "3.11.9"
  }
 },
 "nbformat": 4,
 "nbformat_minor": 5
}
